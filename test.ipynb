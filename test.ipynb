{
 "cells": [
  {
   "cell_type": "code",
   "execution_count": 11,
   "metadata": {},
   "outputs": [
    {
     "name": "stdout",
     "output_type": "stream",
     "text": [
      "636227\n"
     ]
    }
   ],
   "source": [
    "import pandas as pd\n",
    "import requests as rq\n",
    "import utils.constants as constants\n",
    "import streamlit as st\n",
    "\n",
    "url1 = constants.RDW_KENTEKEN_URL\n",
    "url2 = constants.RDW_BRANDSTOF_API_URL\n",
    "\n",
    "json_kenteken = rq.get(url1, \n",
    "headers={\"X-App-Token\": st.secrets['RDW_API_KEY']}, params={\"$limit\": 300_0000}).json()\n",
    "\n",
    "json_brandstof = rq.get(url2, \n",
    "headers={\"X-App-Token\": st.secrets['RDW_API_KEY']}, params={\"$limit\": 300_0000}).json()\n",
    "\n",
    "df1 = pd.DataFrame.from_dict(json_kenteken)\n",
    "df2 = pd.DataFrame.from_dict(json_brandstof)\n",
    "\n",
    "df = pd.merge(df1, df2, on='kenteken')\n",
    "\n",
    "print(len(df))\n",
    "# df1['kenteken'] = df1['kenteken'].astype(str)\n",
    "# df2['kenteken'] = df2['kenteken'].astype(str)\n",
    "\n",
    "# df1.info()\n",
    "# print(df1)\n",
    "# print(df2)\n",
    "\n",
    "\n",
    "# response = rq.get(constants.OCM_API_URL, \n",
    "# headers={\"X-API-Key\": st.secrets['OCM_API_KEY']}).json()\n",
    "# pd.DataFrame.from_dict(response).head(5)"
   ]
  },
  {
   "cell_type": "code",
   "execution_count": 74,
   "metadata": {},
   "outputs": [
    {
     "data": {
      "text/html": [
       "<div>\n",
       "<style scoped>\n",
       "    .dataframe tbody tr th:only-of-type {\n",
       "        vertical-align: middle;\n",
       "    }\n",
       "\n",
       "    .dataframe tbody tr th {\n",
       "        vertical-align: top;\n",
       "    }\n",
       "\n",
       "    .dataframe thead th {\n",
       "        text-align: right;\n",
       "    }\n",
       "</style>\n",
       "<table border=\"1\" class=\"dataframe\">\n",
       "  <thead>\n",
       "    <tr style=\"text-align: right;\">\n",
       "      <th></th>\n",
       "      <th>IsRecentlyVerified</th>\n",
       "      <th>Connections</th>\n",
       "      <th>NumberOfPoints</th>\n",
       "      <th>StatusTypeID</th>\n",
       "      <th>UsageType.Title</th>\n",
       "      <th>AddressInfo.Latitude</th>\n",
       "      <th>AddressInfo.Longitude</th>\n",
       "    </tr>\n",
       "  </thead>\n",
       "  <tbody>\n",
       "    <tr>\n",
       "      <th>0</th>\n",
       "      <td>True</td>\n",
       "      <td>[CHAdeMO, CCS (Type 2)]</td>\n",
       "      <td>2</td>\n",
       "      <td>50</td>\n",
       "      <td>Public - Membership Required</td>\n",
       "      <td>52.154843</td>\n",
       "      <td>6.201008</td>\n",
       "    </tr>\n",
       "    <tr>\n",
       "      <th>1</th>\n",
       "      <td>True</td>\n",
       "      <td>[Type 2 (Socket Only)]</td>\n",
       "      <td>2</td>\n",
       "      <td>50</td>\n",
       "      <td>Public - Membership Required</td>\n",
       "      <td>52.220917</td>\n",
       "      <td>4.531350</td>\n",
       "    </tr>\n",
       "    <tr>\n",
       "      <th>2</th>\n",
       "      <td>True</td>\n",
       "      <td>[Type 2 (Socket Only)]</td>\n",
       "      <td>1</td>\n",
       "      <td>50</td>\n",
       "      <td>Public - Membership Required</td>\n",
       "      <td>51.411700</td>\n",
       "      <td>6.167800</td>\n",
       "    </tr>\n",
       "    <tr>\n",
       "      <th>3</th>\n",
       "      <td>True</td>\n",
       "      <td>[Type 2 (Socket Only)]</td>\n",
       "      <td>1</td>\n",
       "      <td>50</td>\n",
       "      <td>Public</td>\n",
       "      <td>52.042242</td>\n",
       "      <td>5.665901</td>\n",
       "    </tr>\n",
       "    <tr>\n",
       "      <th>4</th>\n",
       "      <td>True</td>\n",
       "      <td>[Type 2 (Socket Only)]</td>\n",
       "      <td>2</td>\n",
       "      <td>50</td>\n",
       "      <td>Private - For Staff, Visitors or Customers</td>\n",
       "      <td>52.399358</td>\n",
       "      <td>6.783781</td>\n",
       "    </tr>\n",
       "  </tbody>\n",
       "</table>\n",
       "</div>"
      ],
      "text/plain": [
       "   IsRecentlyVerified              Connections  NumberOfPoints  StatusTypeID  \\\n",
       "0                True  [CHAdeMO, CCS (Type 2)]               2            50   \n",
       "1                True   [Type 2 (Socket Only)]               2            50   \n",
       "2                True   [Type 2 (Socket Only)]               1            50   \n",
       "3                True   [Type 2 (Socket Only)]               1            50   \n",
       "4                True   [Type 2 (Socket Only)]               2            50   \n",
       "\n",
       "                              UsageType.Title  AddressInfo.Latitude  \\\n",
       "0                Public - Membership Required             52.154843   \n",
       "1                Public - Membership Required             52.220917   \n",
       "2                Public - Membership Required             51.411700   \n",
       "3                                      Public             52.042242   \n",
       "4  Private - For Staff, Visitors or Customers             52.399358   \n",
       "\n",
       "   AddressInfo.Longitude  \n",
       "0               6.201008  \n",
       "1               4.531350  \n",
       "2               6.167800  \n",
       "3               5.665901  \n",
       "4               6.783781  "
      ]
     },
     "execution_count": 74,
     "metadata": {},
     "output_type": "execute_result"
    }
   ],
   "source": [
    "def fetchOCMData(isFilters=False):\n",
    "    response = rq.get(\"https://api.openchargemap.io/v3/poi/?output=json&countrycode=NL&verbose=false&includecomments=false\", \n",
    "    headers={\"X-API-Key\": st.secrets['OCM_API_KEY']}).json()\n",
    "    df = pd.json_normalize(response)\n",
    "    fitlers = pd.json_normalize(response, record_path=[\"Connections\"])\n",
    "    listOfCols = ['IsRecentlyVerified', 'UsageType.Title', 'AddressInfo.Latitude', 'AddressInfo.Longitude', 'Connections', 'NumberOfPoints', 'StatusTypeID']\n",
    "    df['Connections'] = df['Connections'].apply(lambda x: [y['ConnectionType']['Title'] for y in x])\n",
    "    df.drop(columns=df.columns[~df.columns.isin(listOfCols)].values, axis=1, inplace=True)\n",
    "    df = df[df['IsRecentlyVerified']]\n",
    "    if (isFilters):\n",
    "        return fitlers['ConnectionType.Title'].unique()\n",
    "    return df\n",
    "\n",
    "df = fetchOCMData()"
   ]
  },
  {
   "cell_type": "code",
   "execution_count": null,
   "outputs": [],
   "source": [],
   "metadata": {
    "collapsed": false,
    "pycharm": {
     "name": "#%%\n"
    }
   }
  },
  {
   "cell_type": "code",
   "execution_count": 43,
   "outputs": [
    {
     "data": {
      "text/plain": "Empty DataFrame\nColumns: [kenteken, voertuigsoort, merk, handelsbenaming, vervaldatum_apk, datum_tenaamstelling, bruto_bpm, inrichting, aantal_zitplaatsen, eerste_kleur, tweede_kleur, aantal_cilinders, cilinderinhoud, massa_ledig_voertuig, toegestane_maximum_massa_voertuig, massa_rijklaar, zuinigheidslabel, datum_eerste_toelating, datum_eerste_afgifte_nederland, wacht_op_keuren, catalogusprijs, wam_verzekerd, aantal_deuren, aantal_wielen, afstand_hart_koppeling_tot_achterzijde_voertuig, afstand_voorzijde_voertuig_tot_hart_koppeling, lengte, breedte, europese_voertuigcategorie, technische_max_massa_voertuig, type, typegoedkeuringsnummer, variant, uitvoering, volgnummer_wijziging_eu_typegoedkeuring, vermogen_massarijklaar, wielbasis, export_indicator, openstaande_terugroepactie_indicator, taxi_indicator, maximum_massa_samenstelling, aantal_rolstoelplaatsen, maximum_ondersteunende_snelheid, jaar_laatste_registratie_tellerstand, tellerstandoordeel, code_toelichting_tellerstandoordeel, tenaamstellen_mogelijk, api_gekentekende_voertuigen_assen, api_gekentekende_voertuigen_brandstof, api_gekentekende_voertuigen_carrosserie, api_gekentekende_voertuigen_carrosserie_specifiek, api_gekentekende_voertuigen_voertuigklasse, maximum_massa_trekken_ongeremd, maximum_trekken_massa_geremd, plaats_chassisnummer, maximale_constructiesnelheid_brom_snorfiets, vermogen_brom_snorfiets, europese_voertuigcategorie_toevoeging, europese_uitvoeringcategorie_toevoeging, laadvermogen, aanhangwagen_autonoom_geremd, aanhangwagen_middenas_geremd, oplegger_geremd, vervaldatum_tachograaf, type_gasinstallatie, afwijkende_maximum_snelheid, aantal_staanplaatsen, brandstof_volgnummer, brandstof_omschrijving, brandstofverbruik_buiten, brandstofverbruik_gecombineerd, brandstofverbruik_stad, co2_uitstoot_gecombineerd, geluidsniveau_rijdend, geluidsniveau_stationair, emissiecode_omschrijving, milieuklasse_eg_goedkeuring_zwaar, nettomaximumvermogen, roetuitstoot, toerental_geluidsniveau, milieuklasse_eg_goedkeuring_licht, uitstoot_deeltjes_licht, emissie_co2_gecombineerd_wltp, brandstof_verbruik_gecombineerd_wltp, nominaal_continu_maximumvermogen, netto_max_vermogen_elektrisch, klasse_hybride_elektrisch_voertuig, elektrisch_verbruik_enkel_elektrisch_wltp, actie_radius_enkel_elektrisch_wltp, actie_radius_enkel_elektrisch_stad_wltp, max_vermogen_60_minuten, max_vermogen_15_minuten, elektrisch_verbruik_extern_opladen_wltp, actie_radius_extern_opladen_wltp, actie_radius_extern_opladen_stad_wltp, co2_uitstoot_gewogen, emis_deeltjes_type1_wltp, emis_co2_gewogen_gecombineerd_wltp, brandstof_verbruik_gewogen_gecombineerd_wltp, uitstoot_deeltjes_zwaar]\nIndex: []\n\n[0 rows x 100 columns]",
      "text/html": "<div>\n<style scoped>\n    .dataframe tbody tr th:only-of-type {\n        vertical-align: middle;\n    }\n\n    .dataframe tbody tr th {\n        vertical-align: top;\n    }\n\n    .dataframe thead th {\n        text-align: right;\n    }\n</style>\n<table border=\"1\" class=\"dataframe\">\n  <thead>\n    <tr style=\"text-align: right;\">\n      <th></th>\n      <th>kenteken</th>\n      <th>voertuigsoort</th>\n      <th>merk</th>\n      <th>handelsbenaming</th>\n      <th>vervaldatum_apk</th>\n      <th>datum_tenaamstelling</th>\n      <th>bruto_bpm</th>\n      <th>inrichting</th>\n      <th>aantal_zitplaatsen</th>\n      <th>eerste_kleur</th>\n      <th>...</th>\n      <th>max_vermogen_60_minuten</th>\n      <th>max_vermogen_15_minuten</th>\n      <th>elektrisch_verbruik_extern_opladen_wltp</th>\n      <th>actie_radius_extern_opladen_wltp</th>\n      <th>actie_radius_extern_opladen_stad_wltp</th>\n      <th>co2_uitstoot_gewogen</th>\n      <th>emis_deeltjes_type1_wltp</th>\n      <th>emis_co2_gewogen_gecombineerd_wltp</th>\n      <th>brandstof_verbruik_gewogen_gecombineerd_wltp</th>\n      <th>uitstoot_deeltjes_zwaar</th>\n    </tr>\n  </thead>\n  <tbody>\n  </tbody>\n</table>\n<p>0 rows × 100 columns</p>\n</div>"
     },
     "execution_count": 43,
     "metadata": {},
     "output_type": "execute_result"
    }
   ],
   "source": [
    "#duplicates op basis van nummerbord droppen\n",
    "df = df.drop_duplicates(subset = [\"kenteken\"], keep = \"last\")\n",
    "\n",
    "#check\n",
    "df[df.duplicated(subset = [\"kenteken\"], keep = \"last\" )].sort_values(\"kenteken\")"
   ],
   "metadata": {
    "collapsed": false,
    "pycharm": {
     "name": "#%%\n"
    }
   }
  },
  {
   "cell_type": "code",
   "execution_count": 46,
   "outputs": [
    {
     "data": {
      "text/plain": "  voertuigsoort        merk  handelsbenaming datum_tenaamstelling  \\\n0  Personenauto        OPEL            CORSA           2020-01-21   \n1     Bromfiets   LA SOURIS          SOURINI           2020-07-10   \n2  Personenauto     RENAULT    MEGANE SCENIC           2016-06-03   \n3  Personenauto  VOLKSWAGEN             POLO           2020-03-17   \n4  Bedrijfsauto      TOYOTA  LAND CRUISER V8           2020-10-13   \n\n  brandstof_omschrijving  \n0                Benzine  \n1                Benzine  \n2                Benzine  \n3                Benzine  \n4                 Diesel  ",
      "text/html": "<div>\n<style scoped>\n    .dataframe tbody tr th:only-of-type {\n        vertical-align: middle;\n    }\n\n    .dataframe tbody tr th {\n        vertical-align: top;\n    }\n\n    .dataframe thead th {\n        text-align: right;\n    }\n</style>\n<table border=\"1\" class=\"dataframe\">\n  <thead>\n    <tr style=\"text-align: right;\">\n      <th></th>\n      <th>voertuigsoort</th>\n      <th>merk</th>\n      <th>handelsbenaming</th>\n      <th>datum_tenaamstelling</th>\n      <th>brandstof_omschrijving</th>\n    </tr>\n  </thead>\n  <tbody>\n    <tr>\n      <th>0</th>\n      <td>Personenauto</td>\n      <td>OPEL</td>\n      <td>CORSA</td>\n      <td>2020-01-21</td>\n      <td>Benzine</td>\n    </tr>\n    <tr>\n      <th>1</th>\n      <td>Bromfiets</td>\n      <td>LA SOURIS</td>\n      <td>SOURINI</td>\n      <td>2020-07-10</td>\n      <td>Benzine</td>\n    </tr>\n    <tr>\n      <th>2</th>\n      <td>Personenauto</td>\n      <td>RENAULT</td>\n      <td>MEGANE SCENIC</td>\n      <td>2016-06-03</td>\n      <td>Benzine</td>\n    </tr>\n    <tr>\n      <th>3</th>\n      <td>Personenauto</td>\n      <td>VOLKSWAGEN</td>\n      <td>POLO</td>\n      <td>2020-03-17</td>\n      <td>Benzine</td>\n    </tr>\n    <tr>\n      <th>4</th>\n      <td>Bedrijfsauto</td>\n      <td>TOYOTA</td>\n      <td>LAND CRUISER V8</td>\n      <td>2020-10-13</td>\n      <td>Diesel</td>\n    </tr>\n  </tbody>\n</table>\n</div>"
     },
     "execution_count": 46,
     "metadata": {},
     "output_type": "execute_result"
    }
   ],
   "source": [
    "# alleen noodzakelijke colomns bewaren\n",
    "clist = [\"voertuigsoort\", \"merk\", \"handelsbenaming\", \"datum_tenaamstelling\", \"brandstof_omschrijving\"]\n",
    "\n",
    "df_clean = df.drop(columns=df.columns[~df.columns.isin(clist)].values, axis=1)\n",
    "\n",
    "#datum_tenaamstelling to datetime\n",
    "df_clean[\"datum_tenaamstelling\"] = pd.to_datetime(df_clean[\"datum_tenaamstelling\"])\n",
    "# drop onbekende datum tenaamstelling\n",
    "df_clean =  df_clean.dropna(subset = [\"datum_tenaamstelling\"])\n",
    "\n",
    "df_clean.head()"
   ],
   "metadata": {
    "collapsed": false,
    "pycharm": {
     "name": "#%%\n"
    }
   }
  },
  {
   "cell_type": "code",
   "execution_count": 49,
   "outputs": [
    {
     "name": "stdout",
     "output_type": "stream",
     "text": [
      "voertuigsoort              0\n",
      "merk                       0\n",
      "handelsbenaming           87\n",
      "datum_tenaamstelling       0\n",
      "brandstof_omschrijving     0\n",
      "dtype: int64\n"
     ]
    }
   ],
   "source": [
    "print(df_clean.isna().sum())\n",
    "df_clean[\"datum_tenaamstelling\"].min()\n",
    "\n",
    "df_clean.shape\n",
    "\n",
    "df_clean.to_csv(\"clean 621517\")\n",
    "\n",
    "\n",
    "\n"
   ],
   "metadata": {
    "collapsed": false,
    "pycharm": {
     "name": "#%%\n"
    }
   }
  }
 ],
 "metadata": {
  "interpreter": {
   "hash": "a2460057595311ae96d6b44480520814caaba6d89f0180629c5410b028ac749f"
  },
  "kernelspec": {
   "display_name": "Python 3.8.8 64-bit ('base': conda)",
   "name": "python3"
  },
  "language_info": {
   "codemirror_mode": {
    "name": "ipython",
    "version": 3
   },
   "file_extension": ".py",
   "mimetype": "text/x-python",
   "name": "python",
   "nbconvert_exporter": "python",
   "pygments_lexer": "ipython3",
   "version": "3.8.8"
  },
  "orig_nbformat": 4
 },
 "nbformat": 4,
 "nbformat_minor": 2
}